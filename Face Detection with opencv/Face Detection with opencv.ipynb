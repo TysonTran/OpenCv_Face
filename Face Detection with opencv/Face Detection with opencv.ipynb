{
 "cells": [
  {
   "cell_type": "code",
   "execution_count": 1,
   "metadata": {},
   "outputs": [],
   "source": [
    "import cv2\n",
    "import numpy as np"
   ]
  },
  {
   "cell_type": "code",
   "execution_count": 2,
   "metadata": {},
   "outputs": [
    {
     "name": "stdout",
     "output_type": "stream",
     "text": [
      "This sht better break\n"
     ]
    }
   ],
   "source": [
    "face_cascade = cv2.CascadeClassifier('haarcascade_frontalface_default.xml')\n",
    "eye_cascade = cv2.CascadeClassifier('haarcascade_eye.xml')\n",
    "# Uses pretrain classifiers from opencv of faces and eyes\n",
    "\n",
    "live_video = cv2.VideoCapture(0)\n",
    "#Captures live video\n",
    "\n",
    "while True:\n",
    "    ret, frame = live_video.read() #returns True/False if frame is read correctly and also returns returns the frame as numpy ndarray\n",
    "    gray = cv2.cvtColor(frame, cv2.COLOR_BGR2GRAY) #Convert to grayscale to discard information we do not need\n",
    "    faces = face_cascade.detectMultiScale(gray)\n",
    "    for (x,y,w,h) in faces:\n",
    "        center_of_ellipse = (x + w//2, y + h//2)\n",
    "        radius_of_ellipse = (w//2, h//2)\n",
    "        frame = cv2.ellipse(frame, center_of_ellipse, radius_of_ellipse, 0, 0, 360, (0, 255, 0), 2)\n",
    "        face_roi_gray = gray[y:y+h,x:x+w] #region of the face\n",
    "        face_roi_color = frame[y:y+h,x:x+w]\n",
    "        #-- In each face, detect eyes\n",
    "        eyes = eye_cascade.detectMultiScale(face_roi_gray)\n",
    "        for (x2,y2,w2,h2) in eyes:\n",
    "            eye_center = (x + x2 + w2//2, y + y2 + h2//2)\n",
    "            radius = int(round((w2 + h2)*0.25))\n",
    "            frame = cv2.circle(frame, eye_center, radius, (255, 0, 0 ), 2)\n",
    "        \n",
    "    cv2.imshow('Video', frame)\n",
    "    if cv2.waitKey(1) & 0xFF == ord('q'):\n",
    "        print(\"This sht better break\")\n",
    "        break\n",
    "            \n",
    "live_video.release()\n",
    "cv2.destroyAllWindows()\n",
    "        \n",
    "    "
   ]
  },
  {
   "cell_type": "code",
   "execution_count": 5,
   "metadata": {},
   "outputs": [],
   "source": [
    "k = cv2.waitKey(30) & 0xff"
   ]
  },
  {
   "cell_type": "code",
   "execution_count": 6,
   "metadata": {},
   "outputs": [
    {
     "data": {
      "text/plain": [
       "255"
      ]
     },
     "execution_count": 6,
     "metadata": {},
     "output_type": "execute_result"
    }
   ],
   "source": [
    "k"
   ]
  },
  {
   "cell_type": "code",
   "execution_count": 7,
   "metadata": {},
   "outputs": [
    {
     "data": {
      "text/plain": [
       "113"
      ]
     },
     "execution_count": 7,
     "metadata": {},
     "output_type": "execute_result"
    }
   ],
   "source": [
    "ord('q')"
   ]
  },
  {
   "cell_type": "code",
   "execution_count": null,
   "metadata": {},
   "outputs": [],
   "source": []
  }
 ],
 "metadata": {
  "kernelspec": {
   "display_name": "Python 3",
   "language": "python",
   "name": "python3"
  },
  "language_info": {
   "codemirror_mode": {
    "name": "ipython",
    "version": 3
   },
   "file_extension": ".py",
   "mimetype": "text/x-python",
   "name": "python",
   "nbconvert_exporter": "python",
   "pygments_lexer": "ipython3",
   "version": "3.7.5"
  }
 },
 "nbformat": 4,
 "nbformat_minor": 2
}
